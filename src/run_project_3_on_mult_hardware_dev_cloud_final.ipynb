{
 "cells": [
  {
   "cell_type": "markdown",
   "metadata": {},
   "source": [
    "# FP32 models"
   ]
  },
  {
   "cell_type": "code",
   "execution_count": 1,
   "metadata": {},
   "outputs": [],
   "source": [
    "import os"
   ]
  },
  {
   "cell_type": "markdown",
   "metadata": {},
   "source": [
    "## Step 1.1: Submit to an Edge Compute Node with an Intel CPU\n",
    "In the cell below, write a script to submit a job to an <a \n",
    "    href=\"https://software.intel.com/en-us/iot/hardware/iei-tank-dev-kit-core\">IEI \n",
    "    Tank* 870-Q170</a> edge node with an <a \n",
    "    href=\"https://ark.intel.com/products/88186/Intel-Core-i5-6500TE-Processor-6M-Cache-up-to-3-30-GHz-\">Intel Core™ i5-6500TE processor</a>. The inference workload should run on the CPU."
   ]
  },
  {
   "cell_type": "code",
   "execution_count": 3,
   "metadata": {},
   "outputs": [],
   "source": [
    "# ! /opt/intel/openvino/deployment_tools/tools/model_downloader/downloader.py --name face-detection-adas-binary-0001 -o models\n",
    "\n",
    "# ! /opt/intel/openvino/deployment_tools/tools/model_downloader/downloader.py --name head-pose-estimation-adas-0001 -o models\n",
    "\n",
    "# ! /opt/intel/openvino/deployment_tools/tools/model_downloader/downloader.py --name gaze-estimation-adas-0002 -o models\n",
    "\n",
    "# ! /opt/intel/openvino/deployment_tools/tools/model_downloader/downloader.py --name landmarks-regression-retail-0009 -o models"
   ]
  },
  {
   "cell_type": "code",
   "execution_count": 4,
   "metadata": {},
   "outputs": [
    {
     "name": "stdout",
     "output_type": "stream",
     "text": [
      "['18040.v-qsvr-2.devcloud-edge']\n"
     ]
    }
   ],
   "source": [
    "#Submit job to the queue\n",
    "cpu_job_id = !qsub queue_job.sh -d . -l nodes=1:tank-870:i5-6500te -F \"./intel/face-detection-adas-binary-0001/FP32-INT1/face-detection-adas-binary-0001.xml ./intel/landmarks-regression-retail-0009/FP32/landmarks-regression-retail-0009.xml ./intel/head-pose-estimation-adas-0001/FP32/head-pose-estimation-adas-0001.xml ./intel/gaze-estimation-adas-0002/FP32/gaze-estimation-adas-0002.xml ./demo.mp4 CPU .\"\n",
    "\n",
    "print(cpu_job_id)"
   ]
  },
  {
   "cell_type": "code",
   "execution_count": 16,
   "metadata": {},
   "outputs": [],
   "source": [
    "os.rename(r'stats.txt', r'cpu_stats.txt')"
   ]
  },
  {
   "cell_type": "markdown",
   "metadata": {},
   "source": [
    "## Step 1.2: Submit to an Edge Compute Node with CPU and IGPU\n",
    "In the cell below, write a script to submit a job to an <a \n",
    "    href=\"https://software.intel.com/en-us/iot/hardware/iei-tank-dev-kit-core\">IEI \n",
    "    Tank* 870-Q170</a> edge node with an <a href=\"https://ark.intel.com/products/88186/Intel-Core-i5-6500TE-Processor-6M-Cache-up-to-3-30-GHz-\">Intel® Core i5-6500TE</a>. The inference workload should run on the **Intel® HD Graphics 530** integrated GPU."
   ]
  },
  {
   "cell_type": "code",
   "execution_count": 6,
   "metadata": {},
   "outputs": [
    {
     "name": "stdout",
     "output_type": "stream",
     "text": [
      "18046.v-qsvr-2.devcloud-edge\n"
     ]
    }
   ],
   "source": [
    "#Submit job to the queue\n",
    "gpu_job_id = !qsub queue_job.sh -d . -l nodes=1:tank-870:i5-6500te:intel-hd-530 -F \"./intel/face-detection-adas-binary-0001/FP32-INT1/face-detection-adas-binary-0001.xml ./intel/landmarks-regression-retail-0009/FP32/landmarks-regression-retail-0009.xml ./intel/head-pose-estimation-adas-0001/FP32/head-pose-estimation-adas-0001.xml ./intel/gaze-estimation-adas-0002/FP32/gaze-estimation-adas-0002.xml ./demo.mp4 GPU .\" \n",
    "\n",
    "print(gpu_job_id[0])"
   ]
  },
  {
   "cell_type": "code",
   "execution_count": null,
   "metadata": {},
   "outputs": [],
   "source": [
    "os.rename(r'stats.txt', r'gpu_stats.txt')"
   ]
  },
  {
   "cell_type": "markdown",
   "metadata": {},
   "source": [
    "## Step 1.3: Submit to an Edge Compute Node with an Intel® Neural Compute Stick 2\n",
    "In the cell below, write a script to submit a job to an <a \n",
    "    href=\"https://software.intel.com/en-us/iot/hardware/iei-tank-dev-kit-core\">IEI \n",
    "    Tank 870-Q170</a> edge node with an <a href=\"https://ark.intel.com/products/88186/Intel-Core-i5-6500TE-Processor-6M-Cache-up-to-3-30-GHz-\">Intel Core i5-6500te CPU</a>. The inference workload should run on an <a \n",
    "    href=\"https://software.intel.com/en-us/neural-compute-stick\">Intel Neural Compute Stick 2</a> installed in this  node."
   ]
  },
  {
   "cell_type": "code",
   "execution_count": 9,
   "metadata": {},
   "outputs": [
    {
     "name": "stdout",
     "output_type": "stream",
     "text": [
      "qsub: submit error (Job exceeds queue resource limits MSG=cannot locate feasible nodes (nodes file is empty, all systems are busy, or no nodes have the requested feature))\n"
     ]
    }
   ],
   "source": [
    "#Submit job to the queue\n",
    "# nodes=1:idc004nc2:i5-6500te:intel-ncs2\n",
    "# nodes=1:tank-870:i5-6500te:intel-ncs2\n",
    "vpu_job_id = !qsub queue_job.sh -d . -l nodes=1:i5-6500te:iei-mustang-v100-mx8 -F \"./intel/face-detection-adas-binary-0001/FP32-INT1/face-detection-adas-binary-0001.xml ./intel/landmarks-regression-retail-0009/FP32/landmarks-regression-retail-0009.xml ./intel/head-pose-estimation-adas-0001/FP32/head-pose-estimation-adas-0001.xml ./intel/gaze-estimation-adas-0002/FP32/gaze-estimation-adas-0002.xml ./demo.mp4 HETERO:MYRIAD,CPU .\"\n",
    "\n",
    "print(vpu_job_id[0])"
   ]
  },
  {
   "cell_type": "code",
   "execution_count": null,
   "metadata": {},
   "outputs": [],
   "source": [
    "os.rename(r'stats.txt', r'ncs2_stats.txt')"
   ]
  },
  {
   "cell_type": "markdown",
   "metadata": {},
   "source": [
    "## Step 1.4: Submit to an Edge Compute Node with IEI Mustang-F100-A10\n",
    "In the cell below, write a script to submit a job to an <a \n",
    "    href=\"https://software.intel.com/en-us/iot/hardware/iei-tank-dev-kit-core\">IEI \n",
    "    Tank 870-Q170</a> edge node with an <a href=\"https://ark.intel.com/products/88186/Intel-Core-i5-6500TE-Processor-6M-Cache-up-to-3-30-GHz-\">Intel Core™ i5-6500te CPU</a> . The inference workload will run on the <a href=\"https://www.ieiworld.com/mustang-f100/en/\"> IEI Mustang-F100-A10 </a> FPGA card installed in this node."
   ]
  },
  {
   "cell_type": "code",
   "execution_count": 11,
   "metadata": {},
   "outputs": [
    {
     "name": "stdout",
     "output_type": "stream",
     "text": [
      "18087.v-qsvr-2.devcloud-edge\n"
     ]
    }
   ],
   "source": [
    "#Submit job to the queue\n",
    "#Use the closest FP to the one declared.. (FP16 atm)\n",
    "fpga_job_id = !qsub queue_job.sh -d . -l nodes=1:tank-870:i5-6500te:iei-mustang-f100-a10 -F \"./intel/face-detection-adas-binary-0001/FP32-INT1/face-detection-adas-binary-0001.xml ./intel/landmarks-regression-retail-0009/FP32/landmarks-regression-retail-0009.xml ./intel/head-pose-estimation-adas-0001/FP32/head-pose-estimation-adas-0001.xml ./intel/gaze-estimation-adas-0002/FP32/gaze-estimation-adas-0002.xml ./demo.mp4 HETERO:FPGA,CPU .\"\n",
    "\n",
    "print(fpga_job_id[0])"
   ]
  },
  {
   "cell_type": "code",
   "execution_count": null,
   "metadata": {},
   "outputs": [],
   "source": [
    "os.rename(r'stats.txt', r'fpga_stats.txt')"
   ]
  },
  {
   "cell_type": "markdown",
   "metadata": {},
   "source": [
    "## Step 1.5: Submit to an Edge Compute Node with Intel® Xeon® CPU\n",
    "In the cell below, we submit a job to an <a \n",
    "    href=\"https://software.intel.com/en-us/iot/hardware/iei-tank-dev-kit-core\">IEI \n",
    "    Tank* 870-Q170</a> edge node with an <a \n",
    "    href=\"https://ark.intel.com/products/88178/Intel-Xeon-Processor-E3-1268L-v5-8M-Cache-2-40-GHz-\">Intel® \n",
    "    Xeon® Processor E3-1268L v5</a>. The inference workload will run on the CPU."
   ]
  },
  {
   "cell_type": "code",
   "execution_count": 48,
   "metadata": {},
   "outputs": [
    {
     "name": "stdout",
     "output_type": "stream",
     "text": [
      "['18326.v-qsvr-2.devcloud-edge']\n"
     ]
    }
   ],
   "source": [
    "#Submit job to the queue\n",
    "xeon_cpu_job_id = !qsub queue_job.sh -d . -l nodes=1:tank-870:e3-1268l-v5 -F \"./intel/face-detection-adas-binary-0001/FP32-INT1/face-detection-adas-binary-0001.xml ./intel/landmarks-regression-retail-0009/FP32/landmarks-regression-retail-0009.xml ./intel/head-pose-estimation-adas-0001/FP32/head-pose-estimation-adas-0001.xml ./intel/gaze-estimation-adas-0002/FP32/gaze-estimation-adas-0002.xml ./demo.mp4 CPU .\"\n",
    "\n",
    "print(xeon_cpu_job_id)"
   ]
  },
  {
   "cell_type": "code",
   "execution_count": 19,
   "metadata": {},
   "outputs": [],
   "source": [
    "os.rename(r'stats.txt', r'xeon_cpu_stats.txt')"
   ]
  },
  {
   "cell_type": "markdown",
   "metadata": {},
   "source": [
    "## Step 1.6: Submit to an Edge Compute Node with Intel® Atom® CPU"
   ]
  },
  {
   "cell_type": "code",
   "execution_count": 54,
   "metadata": {},
   "outputs": [
    {
     "name": "stdout",
     "output_type": "stream",
     "text": [
      "['18331.v-qsvr-2.devcloud-edge']\n"
     ]
    }
   ],
   "source": [
    "atom_cpu_job_id = !qsub queue_job.sh -d . -l nodes=1:e3950 -F \"./intel/face-detection-adas-binary-0001/FP32-INT1/face-detection-adas-binary-0001.xml ./intel/landmarks-regression-retail-0009/FP32/landmarks-regression-retail-0009.xml ./intel/head-pose-estimation-adas-0001/FP32/head-pose-estimation-adas-0001.xml ./intel/gaze-estimation-adas-0002/FP32/gaze-estimation-adas-0002.xml ./demo.mp4 CPU .\"\n",
    "\n",
    "print(atom_cpu_job_id)"
   ]
  },
  {
   "cell_type": "code",
   "execution_count": null,
   "metadata": {},
   "outputs": [],
   "source": [
    "os.rename(r'stats.txt', r'atom_cpu_stats.txt')"
   ]
  },
  {
   "cell_type": "markdown",
   "metadata": {},
   "source": [
    "# FP16 models"
   ]
  },
  {
   "cell_type": "code",
   "execution_count": 1,
   "metadata": {},
   "outputs": [
    {
     "name": "stdout",
     "output_type": "stream",
     "text": [
      "['18334.v-qsvr-2.devcloud-edge']\n"
     ]
    }
   ],
   "source": [
    "#Submit job to the queue\n",
    "cpu_job_id = !qsub queue_job.sh -d . -l nodes=1:tank-870:i5-6500te -F \"./intel/face-detection-adas-binary-0001/FP32-INT1/face-detection-adas-binary-0001.xml ./intel/landmarks-regression-retail-0009/FP16/landmarks-regression-retail-0009.xml ./intel/head-pose-estimation-adas-0001/FP16/head-pose-estimation-adas-0001.xml ./intel/gaze-estimation-adas-0002/FP16/gaze-estimation-adas-0002.xml ./demo.mp4 CPU .\"\n",
    "\n",
    "print(cpu_job_id)"
   ]
  },
  {
   "cell_type": "code",
   "execution_count": 4,
   "metadata": {},
   "outputs": [],
   "source": [
    "os.rename(r'stats.txt', r'cpu_stats.txt')"
   ]
  },
  {
   "cell_type": "code",
   "execution_count": 11,
   "metadata": {},
   "outputs": [
    {
     "name": "stdout",
     "output_type": "stream",
     "text": [
      "18349.v-qsvr-2.devcloud-edge\n"
     ]
    }
   ],
   "source": [
    "#Submit job to the queue\n",
    "gpu_job_id = !qsub queue_job.sh -d . -l nodes=1:tank-870:i5-6500te:intel-hd-530 -F \"./intel/face-detection-adas-binary-0001/FP32-INT1/face-detection-adas-binary-0001.xml ./intel/landmarks-regression-retail-0009/FP16/landmarks-regression-retail-0009.xml ./intel/head-pose-estimation-adas-0001/FP16/head-pose-estimation-adas-0001.xml ./intel/gaze-estimation-adas-0002/FP16/gaze-estimation-adas-0002.xml ./demo.mp4 GPU .\" \n",
    "\n",
    "print(gpu_job_id[0])"
   ]
  },
  {
   "cell_type": "code",
   "execution_count": 12,
   "metadata": {},
   "outputs": [],
   "source": [
    "os.rename(r'stats.txt', r'gpu_stats.txt')"
   ]
  },
  {
   "cell_type": "code",
   "execution_count": 13,
   "metadata": {},
   "outputs": [
    {
     "name": "stdout",
     "output_type": "stream",
     "text": [
      "18353.v-qsvr-2.devcloud-edge\n"
     ]
    }
   ],
   "source": [
    "#Submit job to the queue\n",
    "#Use the closest FP to the one declared.. (FP16 atm)\n",
    "fpga_job_id = !qsub queue_job.sh -d . -l nodes=1:tank-870:i5-6500te:iei-mustang-f100-a10 -F \"./intel/face-detection-adas-binary-0001/FP32-INT1/face-detection-adas-binary-0001.xml ./intel/landmarks-regression-retail-0009/FP16/landmarks-regression-retail-0009.xml ./intel/head-pose-estimation-adas-0001/FP16/head-pose-estimation-adas-0001.xml ./intel/gaze-estimation-adas-0002/FP16/gaze-estimation-adas-0002.xml ./demo.mp4 HETERO:FPGA,CPU .\"\n",
    "\n",
    "print(fpga_job_id[0])"
   ]
  },
  {
   "cell_type": "code",
   "execution_count": 3,
   "metadata": {},
   "outputs": [],
   "source": [
    "os.rename(r'stats.txt', r'fpga_stats.txt')"
   ]
  },
  {
   "cell_type": "code",
   "execution_count": 4,
   "metadata": {},
   "outputs": [
    {
     "name": "stdout",
     "output_type": "stream",
     "text": [
      "['18929.v-qsvr-2.devcloud-edge']\n"
     ]
    }
   ],
   "source": [
    "#Submit job to the queue\n",
    "xeon_cpu_job_id = !qsub queue_job.sh -d . -l nodes=1:tank-870:e3-1268l-v5 -F \"./intel/face-detection-adas-binary-0001/FP32-INT1/face-detection-adas-binary-0001.xml ./intel/landmarks-regression-retail-0009/FP16/landmarks-regression-retail-0009.xml ./intel/head-pose-estimation-adas-0001/FP16/head-pose-estimation-adas-0001.xml ./intel/gaze-estimation-adas-0002/FP16/gaze-estimation-adas-0002.xml ./demo.mp4 CPU .\"\n",
    "\n",
    "print(xeon_cpu_job_id)"
   ]
  },
  {
   "cell_type": "code",
   "execution_count": 5,
   "metadata": {},
   "outputs": [],
   "source": [
    "os.rename(r'stats.txt', r'xeon_cpu_stats.txt')"
   ]
  },
  {
   "cell_type": "code",
   "execution_count": 2,
   "metadata": {},
   "outputs": [
    {
     "name": "stdout",
     "output_type": "stream",
     "text": [
      "['18936.v-qsvr-2.devcloud-edge']\n"
     ]
    }
   ],
   "source": [
    "atom_cpu_job_id = !qsub queue_job.sh -d . -l nodes=1:e3950 -F \"./intel/face-detection-adas-binary-0001/FP32-INT1/face-detection-adas-binary-0001.xml ./intel/landmarks-regression-retail-0009/FP32/landmarks-regression-retail-0009.xml ./intel/head-pose-estimation-adas-0001/FP32/head-pose-estimation-adas-0001.xml ./intel/gaze-estimation-adas-0002/FP32/gaze-estimation-adas-0002.xml ./demo.mp4 CPU .\"\n",
    "\n",
    "print(atom_cpu_job_id)"
   ]
  },
  {
   "cell_type": "code",
   "execution_count": 3,
   "metadata": {},
   "outputs": [],
   "source": [
    "os.rename(r'stats.txt', r'atom_cpu_stats.txt')"
   ]
  },
  {
   "cell_type": "markdown",
   "metadata": {},
   "source": [
    "# INT8 models"
   ]
  },
  {
   "cell_type": "code",
   "execution_count": 4,
   "metadata": {},
   "outputs": [
    {
     "name": "stdout",
     "output_type": "stream",
     "text": [
      "['18938.v-qsvr-2.devcloud-edge']\n"
     ]
    }
   ],
   "source": [
    "#Submit job to the queue\n",
    "cpu_job_id = !qsub queue_job.sh -d . -l nodes=1:tank-870:i5-6500te -F \"./intel/face-detection-adas-binary-0001/FP32-INT1/face-detection-adas-binary-0001.xml ./intel/landmarks-regression-retail-0009/FP16-INT8/landmarks-regression-retail-0009.xml ./intel/head-pose-estimation-adas-0001/FP16-INT8/head-pose-estimation-adas-0001.xml ./intel/gaze-estimation-adas-0002/FP16-INT8/gaze-estimation-adas-0002.xml ./demo.mp4 CPU .\"\n",
    "\n",
    "print(cpu_job_id)"
   ]
  },
  {
   "cell_type": "code",
   "execution_count": 5,
   "metadata": {},
   "outputs": [],
   "source": [
    "os.rename(r'stats.txt', r'cpu_stats.txt')"
   ]
  },
  {
   "cell_type": "code",
   "execution_count": 6,
   "metadata": {},
   "outputs": [
    {
     "name": "stdout",
     "output_type": "stream",
     "text": [
      "18941.v-qsvr-2.devcloud-edge\n"
     ]
    }
   ],
   "source": [
    "#Submit job to the queue\n",
    "gpu_job_id = !qsub queue_job.sh -d . -l nodes=1:tank-870:i5-6500te:intel-hd-530 -F \"./intel/face-detection-adas-binary-0001/FP32-INT1/face-detection-adas-binary-0001.xml ./intel/landmarks-regression-retail-0009/FP16-INT8/landmarks-regression-retail-0009.xml ./intel/head-pose-estimation-adas-0001/FP16-INT8/head-pose-estimation-adas-0001.xml ./intel/gaze-estimation-adas-0002/FP16-INT8/gaze-estimation-adas-0002.xml ./demo.mp4 GPU .\" \n",
    "\n",
    "print(gpu_job_id[0])"
   ]
  },
  {
   "cell_type": "code",
   "execution_count": 7,
   "metadata": {},
   "outputs": [],
   "source": [
    "os.rename(r'stats.txt', r'gpu_stats.txt')"
   ]
  },
  {
   "cell_type": "code",
   "execution_count": 10,
   "metadata": {},
   "outputs": [
    {
     "name": "stdout",
     "output_type": "stream",
     "text": [
      "18960.v-qsvr-2.devcloud-edge\n"
     ]
    }
   ],
   "source": [
    "#Submit job to the queue\n",
    "#Use the closest FP to the one declared.. (FP16 atm)\n",
    "fpga_job_id = !qsub queue_job.sh -d . -l nodes=1:tank-870:i5-6500te:iei-mustang-f100-a10 -F \"./intel/face-detection-adas-binary-0001/FP32-INT1/face-detection-adas-binary-0001.xml ./intel/landmarks-regression-retail-0009/FP16-INT8/landmarks-regression-retail-0009.xml ./intel/head-pose-estimation-adas-0001/FP16-INT8/head-pose-estimation-adas-0001.xml ./intel/gaze-estimation-adas-0002/FP16-INT8/gaze-estimation-adas-0002.xml ./demo.mp4 HETERO:FPGA,CPU .\"\n",
    "\n",
    "print(fpga_job_id[0])"
   ]
  },
  {
   "cell_type": "code",
   "execution_count": 11,
   "metadata": {},
   "outputs": [],
   "source": [
    "os.rename(r'stats.txt', r'fpga_stats.txt')"
   ]
  },
  {
   "cell_type": "code",
   "execution_count": 12,
   "metadata": {},
   "outputs": [
    {
     "name": "stdout",
     "output_type": "stream",
     "text": [
      "['18977.v-qsvr-2.devcloud-edge']\n"
     ]
    }
   ],
   "source": [
    "#Submit job to the queue\n",
    "xeon_cpu_job_id = !qsub queue_job.sh -d . -l nodes=1:tank-870:e3-1268l-v5 -F \"./intel/face-detection-adas-binary-0001/FP32-INT1/face-detection-adas-binary-0001.xml ./intel/landmarks-regression-retail-0009/FP16-INT8/landmarks-regression-retail-0009.xml ./intel/head-pose-estimation-adas-0001/FP16-INT8/head-pose-estimation-adas-0001.xml ./intel/gaze-estimation-adas-0002/FP16-INT8/gaze-estimation-adas-0002.xml ./demo.mp4 CPU .\"\n",
    "\n",
    "print(xeon_cpu_job_id)"
   ]
  },
  {
   "cell_type": "code",
   "execution_count": 13,
   "metadata": {},
   "outputs": [],
   "source": [
    "os.rename(r'stats.txt', r'xeon_cpu_stats.txt')"
   ]
  },
  {
   "cell_type": "code",
   "execution_count": 14,
   "metadata": {},
   "outputs": [
    {
     "name": "stdout",
     "output_type": "stream",
     "text": [
      "['18987.v-qsvr-2.devcloud-edge']\n"
     ]
    }
   ],
   "source": [
    "atom_cpu_job_id = !qsub queue_job.sh -d . -l nodes=1:e3950 -F \"./intel/face-detection-adas-binary-0001/FP32-INT1/face-detection-adas-binary-0001.xml ./intel/landmarks-regression-retail-0009/FP16-INT8/landmarks-regression-retail-0009.xml ./intel/head-pose-estimation-adas-0001/FP16-INT8/head-pose-estimation-adas-0001.xml ./intel/gaze-estimation-adas-0002/FP16-INT8/gaze-estimation-adas-0002.xml ./demo.mp4 CPU .\"\n",
    "\n",
    "print(atom_cpu_job_id)"
   ]
  },
  {
   "cell_type": "code",
   "execution_count": 15,
   "metadata": {},
   "outputs": [],
   "source": [
    "os.rename(r'stats.txt', r'atom_cpu_stats.txt')"
   ]
  },
  {
   "cell_type": "code",
   "execution_count": null,
   "metadata": {},
   "outputs": [],
   "source": []
  }
 ],
 "metadata": {
  "kernelspec": {
   "display_name": "Python 3",
   "language": "python",
   "name": "python3"
  },
  "language_info": {
   "codemirror_mode": {
    "name": "ipython",
    "version": 3
   },
   "file_extension": ".py",
   "mimetype": "text/x-python",
   "name": "python",
   "nbconvert_exporter": "python",
   "pygments_lexer": "ipython3",
   "version": "3.7.4"
  },
  "toc": {
   "base_numbering": 1,
   "nav_menu": {},
   "number_sections": true,
   "sideBar": true,
   "skip_h1_title": false,
   "title_cell": "Table of Contents",
   "title_sidebar": "Contents",
   "toc_cell": false,
   "toc_position": {},
   "toc_section_display": true,
   "toc_window_display": false
  }
 },
 "nbformat": 4,
 "nbformat_minor": 2
}
